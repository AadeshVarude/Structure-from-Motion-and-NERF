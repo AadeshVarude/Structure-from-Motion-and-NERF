{
  "nbformat": 4,
  "nbformat_minor": 0,
  "metadata": {
    "colab": {
      "provenance": [],
      "authorship_tag": "ABX9TyP/EQCyZlhOxYxV6jRHxpvP",
      "include_colab_link": true
    },
    "kernelspec": {
      "name": "python3",
      "display_name": "Python 3"
    },
    "language_info": {
      "name": "python"
    }
  },
  "cells": [
    {
      "cell_type": "markdown",
      "metadata": {
        "id": "view-in-github",
        "colab_type": "text"
      },
      "source": [
        "<a href=\"https://colab.research.google.com/github/AadeshVarude/Structure-from-Motion-and-NERF/blob/main/SFM.ipynb\" target=\"_parent\"><img src=\"https://colab.research.google.com/assets/colab-badge.svg\" alt=\"Open In Colab\"/></a>"
      ]
    },
    {
      "cell_type": "code",
      "execution_count": null,
      "metadata": {
        "colab": {
          "base_uri": "https://localhost:8080/"
        },
        "id": "Axc9eYS5_WBO",
        "outputId": "07e4ede7-a6e7-42d0-f3ad-cacc743c9909"
      },
      "outputs": [
        {
          "output_type": "stream",
          "name": "stdout",
          "text": [
            "Mounted at /content/drive\n"
          ]
        }
      ],
      "source": [
        "from google.colab import drive\n",
        "drive.mount('/content/drive')"
      ]
    },
    {
      "cell_type": "code",
      "source": [
        "import numpy as np\n",
        "import cv2 as cv\n",
        "import scipy\n",
        "import matplotlib.pyplot as plt\n",
        "import math\n",
        "import os\n",
        "import scipy.optimize\n",
        "from copy import deepcopy\n",
        "from google.colab.patches import cv2_imshow\n",
        "import glob\n"
      ],
      "metadata": {
        "id": "L5rz8_RG_Yuf"
      },
      "execution_count": null,
      "outputs": []
    },
    {
      "cell_type": "code",
      "source": [
        "from matplotlib import pyplot as plt\n",
        "from mpl_toolkits import mplot3d\n",
        "\n",
        "import scipy.optimize as optimize\n",
        "from scipy.sparse import lil_matrix\n",
        "import time\n",
        "from scipy.optimize import least_squares\n",
        "import csv"
      ],
      "metadata": {
        "id": "BhPry1m5A_qK"
      },
      "execution_count": null,
      "outputs": []
    },
    {
      "cell_type": "code",
      "source": [
        "path='/content/drive/MyDrive/P3Data/P3Data/'"
      ],
      "metadata": {
        "id": "U96FAcrJ_YrV"
      },
      "execution_count": null,
      "outputs": []
    },
    {
      "cell_type": "code",
      "source": [
        "num_imgs=5\n",
        "x=np.zeros((1,num_imgs))\n",
        "x.reshape(-1,num_imgs)"
      ],
      "metadata": {
        "colab": {
          "base_uri": "https://localhost:8080/"
        },
        "id": "TSVPjjqDKlGx",
        "outputId": "a1700397-80c3-465d-be62-014dd5da8c16"
      },
      "execution_count": null,
      "outputs": [
        {
          "output_type": "execute_result",
          "data": {
            "text/plain": [
              "array([[0., 0., 0., 0., 0.]])"
            ]
          },
          "metadata": {},
          "execution_count": 7
        }
      ]
    },
    {
      "cell_type": "markdown",
      "source": [
        "**Extract features for the given input data**"
      ],
      "metadata": {
        "id": "TVpOm8P0WJiX"
      }
    },
    {
      "cell_type": "code",
      "source": [
        "def get_features(path,num_imgs):\n",
        "  descriptor=[]\n",
        "  feature_x=[]\n",
        "  feature_y=[]\n",
        "  feature_ind=[]\n",
        "  for n in range(1,num_imgs):\n",
        "    match_file= path + \"matching\"+str(n)+\".txt\"\n",
        "    file_obj=open(match_file,\"r\")\n",
        "    for i,line in enumerate(file_obj):\n",
        "      if i==0:\n",
        "        rows=line.split(':')\n",
        "        nfeat=rows[1]\n",
        "      else:\n",
        "        x=np.zeros((1,num_imgs))\n",
        "        y=np.zeros((1,num_imgs))\n",
        "        ind=np.zeros((1,num_imgs))\n",
        "\n",
        "\n",
        "        row=line.split()\n",
        "        features=[float(x)for x in row]\n",
        "        features=np.array(features)\n",
        "        num_match=features[0]\n",
        "        r=features[1]\n",
        "        g=features[2]\n",
        "        b=features[3]\n",
        "        descriptor.append([r,g,b])\n",
        "\n",
        "        src_x=features[4]\n",
        "        src_y=features[5]\n",
        "        x[0,n-1]=src_x\n",
        "        y[0,n-1]=src_y\n",
        "        ind[0,n-1]=1\n",
        "        m=1\n",
        "        while num_match >1 :\n",
        "          img_id=int(features[5+m])\n",
        "          img_id_x=features[6+m]\n",
        "          img_id_y=features[7+m]\n",
        "          m=m+3\n",
        "          num_match-=1\n",
        "          x[0,img_id-1]=img_id_x\n",
        "          y[0,img_id-1]=img_id_y\n",
        "          ind[0,img_id-1]=1\n",
        "        feature_x.append(x)\n",
        "        feature_y.append(y)\n",
        "        feature_ind.append(ind)\n",
        "\n",
        "  return np.array(feature_x).reshape(-1,num_imgs), np.array(feature_y).reshape(-1, num_imgs), np.array(feature_ind).reshape(-1, num_imgs), np.array(descriptor).reshape(-1, 3)\n"
      ],
      "metadata": {
        "id": "rrNDhyk9_Ypb"
      },
      "execution_count": null,
      "outputs": []
    },
    {
      "cell_type": "code",
      "source": [
        "feat_x,feat_y,feat_ind,descriptor=get_features(path,num_imgs)\n"
      ],
      "metadata": {
        "id": "54qx0NMn_Ynt"
      },
      "execution_count": null,
      "outputs": []
    },
    {
      "cell_type": "markdown",
      "source": [
        "**Functions for estimating the Fundamental Matrix**"
      ],
      "metadata": {
        "id": "WKFIMuLeWV0d"
      }
    },
    {
      "cell_type": "code",
      "source": [
        "def normalize(uv):\n",
        "  uv_ = np.mean(uv, axis=0)\n",
        "  u_,v_ = uv_[0], uv_[1]\n",
        "  u_cap, v_cap = uv[:,0] - u_, uv[:,1] - v_\n",
        "\n",
        "  s = (2/np.mean(u_cap**2 + v_cap**2))**(0.5)\n",
        "  T_scale = np.diag([s,s,1])\n",
        "  T_trans = np.array([[1,0,-u_],[0,1,-v_],[0,0,1]])\n",
        "  T = T_scale.dot(T_trans)\n",
        "\n",
        "  x_ = np.column_stack((uv, np.ones(len(uv))))\n",
        "  x_norm = (T.dot(x_.T)).T\n",
        "\n",
        "  return  x_norm, T\n",
        "\n",
        "def EstimateFundamentalMatrix(pts1, pts2):\n",
        "  normalised = True\n",
        "\n",
        "  x1,x2 = pts1, pts2\n",
        "\n",
        "  if x1.shape[0] > 7:\n",
        "    if normalised == True:\n",
        "      x1_norm, T1 = normalize(x1)\n",
        "      x2_norm, T2 = normalize(x2)\n",
        "    else:\n",
        "      x1_norm,x2_norm = x1,x2\n",
        "\n",
        "    A = np.zeros((len(x1_norm),9))\n",
        "    for i in range(0, len(x1_norm)):\n",
        "      x_1,y_1 = x1_norm[i][0], x1_norm[i][1]\n",
        "      x_2,y_2 = x2_norm[i][0], x2_norm[i][1]\n",
        "      A[i] = np.array([x_1*x_2, x_2*y_1, x_2, y_2*x_1, y_2*y_1, y_2, x_1, y_1, 1])\n",
        "\n",
        "    U, S, VT = np.linalg.svd(A, full_matrices=True)\n",
        "    F = VT.T[:, -1]\n",
        "    F = F.reshape(3,3)\n",
        "\n",
        "    u, s, vt = np.linalg.svd(F)\n",
        "    s = np.diag(s)\n",
        "    s[2,2] = 0\n",
        "    F = np.dot(u, np.dot(s, vt))\n",
        "\n",
        "    if normalised:\n",
        "      F = np.dot(T2.T, np.dot(F, T1))\n",
        "      F = F / F[2,2]\n",
        "    return F\n",
        "\n",
        "  else:\n",
        "    return None"
      ],
      "metadata": {
        "id": "uThor2r-Z1LQ"
      },
      "execution_count": null,
      "outputs": []
    },
    {
      "cell_type": "code",
      "source": [
        "def errorF(pts1, pts2, F):\n",
        "  \"\"\"\n",
        "  check the epipolar constraint\n",
        "  \"\"\"\n",
        "  x1,x2 = pts1, pts2\n",
        "  x1tmp=np.array([x1[0], x1[1], 1])\n",
        "  x2tmp=np.array([x2[0], x2[1], 1]).T\n",
        "\n",
        "  error = np.dot(x2tmp, np.dot(F, x1tmp))\n",
        "\n",
        "  return np.abs(error)"
      ],
      "metadata": {
        "id": "4B--KOESfwPF"
      },
      "execution_count": null,
      "outputs": []
    },
    {
      "cell_type": "code",
      "source": [
        "def get_F(pts1,pts2,ind):\n",
        "  n_iterations = 2000\n",
        "  error_thresh = 0.002\n",
        "  inliers_thresh = 0\n",
        "  chosen_indices = []\n",
        "  chosen_f = None\n",
        "  for i in range(0,n_iterations):\n",
        "    rows=pts1.shape[0]\n",
        "    rand=np.random.choice(rows,size=8)\n",
        "    pts1_8=pts1[rand,:]\n",
        "    pts2_8=pts2[rand,:]\n",
        "    fund=EstimateFundamentalMatrix(pts1_8,pts2_8)\n",
        "    indices=[]\n",
        "    if fund is not None:\n",
        "      for j in range(rows):\n",
        "        error = errorF(pts1[j, :], pts2[j, :], fund)\n",
        "        if error<error_thresh:\n",
        "          indices.append(ind[j])\n",
        "    if len(indices)>inliers_thresh:\n",
        "      inliers_thresh=len(indices)\n",
        "      selected_ind=indices\n",
        "      F=fund\n",
        "  return F,selected_ind"
      ],
      "metadata": {
        "id": "ggsyBGoWQb23"
      },
      "execution_count": null,
      "outputs": []
    },
    {
      "cell_type": "markdown",
      "source": [
        "Defining the camera calibration matrix (As the K matrix is provided in data)"
      ],
      "metadata": {
        "id": "Fqg9aIYxWoLQ"
      }
    },
    {
      "cell_type": "code",
      "source": [
        "K = np.array([[568.996140852, 0, 643.21055941],[0, 568.988362396, 477.982801038],[0,0,1]]).reshape(3,3)"
      ],
      "metadata": {
        "id": "kOeDxp1zXLOx"
      },
      "execution_count": null,
      "outputs": []
    },
    {
      "cell_type": "markdown",
      "source": [
        "Extracting the points\n"
      ],
      "metadata": {
        "id": "hDgPnZoHO5-j"
      }
    },
    {
      "cell_type": "code",
      "source": [
        "f_matrix = np.empty(shape=(num_imgs, num_imgs), dtype=object)\n",
        "filtered_feature_flag = np.zeros_like(feat_ind)\n",
        "ind=np.where((feat_ind[:,0]==1)&(feat_ind[:,1]==1))\n",
        "ind\n",
        "for i in range(0,num_imgs-1):\n",
        "  for j in range(i+1,num_imgs):\n",
        "    ind=np.where((feat_ind[:,i]==1)&(feat_ind[:,j]==1))\n",
        "    pts1 = np.hstack((feat_x[ind, i].reshape((-1, 1)), feat_y[ind, i].reshape((-1, 1))))\n",
        "    pts2 = np.hstack((feat_x[ind, j].reshape((-1, 1)), feat_y[ind, j].reshape((-1, 1))))\n",
        "    ind = np.array(ind).reshape(-1)\n",
        "\n",
        "    if len(ind)>8:\n",
        "      F,selected_ind=get_F(pts1,pts2,ind)\n",
        "      print('At image : ',  i,j, '|| Number of inliers: ', len(selected_ind), '/', len(ind) )\n",
        "      f_matrix[i,j]=F\n",
        "      filtered_feature_flag[selected_ind, i] = 1\n",
        "      filtered_feature_flag[selected_ind, j] = 1\n",
        "\n"
      ],
      "metadata": {
        "id": "BrPxBYGk_YkX",
        "colab": {
          "base_uri": "https://localhost:8080/"
        },
        "outputId": "f03c38f6-77d2-446f-b655-9b20238e758b"
      },
      "execution_count": null,
      "outputs": [
        {
          "output_type": "stream",
          "name": "stdout",
          "text": [
            "At image :  0 1 || Number of inliers:  145 / 672\n",
            "At image :  0 2 || Number of inliers:  93 / 308\n",
            "At image :  0 3 || Number of inliers:  85 / 352\n",
            "At image :  0 4 || Number of inliers:  46 / 206\n",
            "At image :  1 2 || Number of inliers:  181 / 697\n",
            "At image :  1 3 || Number of inliers:  187 / 789\n",
            "At image :  1 4 || Number of inliers:  129 / 405\n",
            "At image :  2 3 || Number of inliers:  256 / 1662\n",
            "At image :  2 4 || Number of inliers:  276 / 919\n",
            "At image :  3 4 || Number of inliers:  381 / 1307\n"
          ]
        }
      ]
    },
    {
      "cell_type": "code",
      "source": [
        "# function for estimating the essential matrix\n",
        "def get_E(F,K):\n",
        "  E=K.T.dot(F).dot(K)\n",
        "  U,s,V=np.linalg.svd(E)\n",
        "  s=[1,1,0]\n",
        "  Enew=np.dot(U,np.dot(np.diag(s),V))\n",
        "  return Enew\n"
      ],
      "metadata": {
        "id": "opTb-nrX_Ybi"
      },
      "execution_count": null,
      "outputs": []
    },
    {
      "cell_type": "code",
      "source": [
        "# extract the camera pose from the essential matrix and register it\n",
        "def CamPose(E):\n",
        "  W=np.array([[0,-1,0],[1,0,0],[0,0,1]])\n",
        "  U,D,V=np.linalg.svd(E)\n",
        "  C1=C3=U[:,2]\n",
        "  C2=C4=-1*U[:,2]\n",
        "  R1=R2=np.dot(U,np.dot(W,V))\n",
        "  R3=R4=np.dot(U,np.dot(W.T,V))\n",
        "  Cset=[]\n",
        "  Rset=[]\n",
        "  Cset.append(C1)\n",
        "  Cset.append(C2)\n",
        "  Cset.append(C3)\n",
        "  Cset.append(C4)\n",
        "  Rset.append(R1)\n",
        "  Rset.append(R2)\n",
        "  Rset.append(R3)\n",
        "  Rset.append(R4)\n",
        "\n",
        "  return Rset,Cset"
      ],
      "metadata": {
        "id": "wvsWEae8o3ty"
      },
      "execution_count": null,
      "outputs": []
    },
    {
      "cell_type": "markdown",
      "source": [
        "Note check for the determinant of the rotation matrix it should be positive one"
      ],
      "metadata": {
        "id": "kZOHu_dItYEe"
      }
    },
    {
      "cell_type": "code",
      "source": [
        "# Testing for two images\n",
        "m=0\n",
        "n=1\n",
        "F12=f_matrix[m,n]\n",
        "E12=get_E(F12,K)\n",
        "Rset,Cset=CamPose(E12)\n"
      ],
      "metadata": {
        "id": "xEKdzyUfUFyC"
      },
      "execution_count": null,
      "outputs": []
    },
    {
      "cell_type": "code",
      "source": [
        "np.linalg.det(Rset[0]) # the determinant of the rotation matrix has to be 1 as per the right hand thumb rule if not then enforce that constraint"
      ],
      "metadata": {
        "colab": {
          "base_uri": "https://localhost:8080/"
        },
        "id": "1zMrvhLd9ajU",
        "outputId": "3490b71a-bbd2-4e57-8fc3-0bab742d20a9"
      },
      "execution_count": null,
      "outputs": [
        {
          "output_type": "execute_result",
          "data": {
            "text/plain": [
              "-1.0"
            ]
          },
          "metadata": {},
          "execution_count": 18
        }
      ]
    },
    {
      "cell_type": "markdown",
      "source": [
        "**Perform triagulation in order to obtain the X 3D point in the environment**"
      ],
      "metadata": {
        "id": "ygQjQi74Xn95"
      }
    },
    {
      "cell_type": "code",
      "source": [
        "def Lin_triangualtion(K,C1,R1,C2,R2,x1,x2):\n",
        "  I = np.identity(3)\n",
        "  C1 = np.reshape(C1, (3, 1))\n",
        "  C2 = np.reshape(C2, (3, 1))\n",
        "  P1= np.dot(K, np.dot(R1, np.hstack((I, -C1))))\n",
        "  P2= np.dot(K, np.dot(R2, np.hstack((I, -C2))))\n",
        "  p1T = P1[0,:].reshape(1,4)\n",
        "  p2T = P1[1,:].reshape(1,4)\n",
        "  p3T = P1[2,:].reshape(1,4)\n",
        "\n",
        "  p1T_ = P2[0,:].reshape(1,4)\n",
        "  p2T_ = P2[1,:].reshape(1,4)\n",
        "  p3T_ = P2[2,:].reshape(1,4)\n",
        "\n",
        "  X=[]\n",
        "  print(x1.shape[0])\n",
        "  for i in range(x1.shape[0]):\n",
        "    x=x1[i,0]\n",
        "    y=x1[i,1]\n",
        "    x_=x2[i,0]\n",
        "    y_=x2[i,1]\n",
        "    A = []\n",
        "    A.append((y * p3T) -  p2T)\n",
        "    A.append(p1T -  (x * p3T))\n",
        "    A.append((y_ * p3T_) -  p2T_)\n",
        "    A.append(p1T_ -  (x_ * p3T_))\n",
        "\n",
        "    A = np.array(A).reshape(4,4)\n",
        "\n",
        "    _, _, vt = np.linalg.svd(A)\n",
        "    v = vt.T\n",
        "    x = v[:,-1]\n",
        "    X.append(x)\n",
        "  return np.array(X)"
      ],
      "metadata": {
        "id": "6BgrDRoc9POI"
      },
      "execution_count": null,
      "outputs": []
    },
    {
      "cell_type": "code",
      "source": [
        "ind=np.where((filtered_feature_flag[:,m]==1)&(filtered_feature_flag[:,n]==1))\n",
        "pts1 = np.hstack((feat_x[ind, m].reshape((-1, 1)), feat_y[ind, m].reshape((-1, 1))))\n",
        "pts2 = np.hstack((feat_x[ind, n].reshape((-1, 1)), feat_y[ind, n].reshape((-1, 1))))\n"
      ],
      "metadata": {
        "id": "VNMDc8ZKtnw8"
      },
      "execution_count": null,
      "outputs": []
    },
    {
      "cell_type": "code",
      "source": [
        "def makeImageSizeSame(imgs):\n",
        "  images = imgs.copy()\n",
        "  sizes = []\n",
        "  for image in images:\n",
        "    x, y, ch = image.shape\n",
        "    sizes.append([x, y, ch])\n",
        "\n",
        "  sizes = np.array(sizes)\n",
        "  x_target, y_target, _ = np.max(sizes, axis = 0)\n",
        "\n",
        "  images_resized = []\n",
        "\n",
        "  for i, image in enumerate(images):\n",
        "    image_resized = np.zeros((x_target, y_target, sizes[i, 2]), np.uint8)\n",
        "    image_resized[0:sizes[i, 0], 0:sizes[i, 1], 0:sizes[i, 2]] = image\n",
        "    images_resized.append(image_resized)\n",
        "\n",
        "  return images_resized\n",
        "def showMatches(image_1, image_2, pts1, pts2, color):\n",
        "  image_1, image_2 = makeImageSizeSame([image_1, image_2])\n",
        "  concat = np.concatenate((image_1, image_2), axis = 1)\n",
        "\n",
        "  if pts1 is not None:\n",
        "    corners_1_x = pts1[:,0].copy().astype(int)\n",
        "    corners_1_y = pts1[:,1].copy().astype(int)\n",
        "    corners_2_x = pts2[:,0].copy().astype(int)\n",
        "    corners_2_y = pts2[:,1].copy().astype(int)\n",
        "    corners_2_x += image_1.shape[1]\n",
        "\n",
        "    for i in range(corners_1_x.shape[0]):\n",
        "      cv.line(concat, (corners_1_x[i], corners_1_y[i]), (corners_2_x[i] ,corners_2_y[i]), color, 1)\n",
        "  plt.imshow(concat)\n"
      ],
      "metadata": {
        "id": "PcH9L86pEBdD"
      },
      "execution_count": null,
      "outputs": []
    },
    {
      "cell_type": "markdown",
      "source": [
        "Testin the matches for two images\n"
      ],
      "metadata": {
        "id": "OKKfpQWlYjNJ"
      }
    },
    {
      "cell_type": "code",
      "source": [
        "image_1=cv.imread(path + '1.png')\n",
        "image_2=cv.imread(path + '2.png')"
      ],
      "metadata": {
        "id": "Bu2kDOSIFZxl"
      },
      "execution_count": null,
      "outputs": []
    },
    {
      "cell_type": "code",
      "source": [
        "showMatches(image_1, image_2, pts1, pts2, [0,255,0])"
      ],
      "metadata": {
        "colab": {
          "base_uri": "https://localhost:8080/",
          "height": 177
        },
        "id": "Wb9o56dGsEGa",
        "outputId": "fc9f10dd-ca3f-4d39-ebfa-8e6724bef9ad"
      },
      "execution_count": null,
      "outputs": [
        {
          "output_type": "display_data",
          "data": {
            "text/plain": [
              "<Figure size 432x288 with 1 Axes>"
            ],
            "image/png": "[encoded data removed]"
          },
          "metadata": {
            "needs_background": "light"
          }
        }
      ]
    },
    {
      "cell_type": "code",
      "source": [
        "R1_ = np.identity(3)\n",
        "C1_ = np.zeros((3,1))\n",
        "I = np.identity(3)\n",
        "pts3D_4 = []\n",
        "\n",
        "for i in range(len(Cset)):\n",
        "  pts3D = []\n",
        "  x1 = pts1\n",
        "  x2 = pts2\n",
        "  X = Lin_triangualtion(K, C1_, R1_, Cset[i], Rset[i], x1, x2)\n",
        "  Y=X\n",
        "  X = X/X[:,3].reshape(-1,1)\n",
        "  pts3D_4.append(X)"
      ],
      "metadata": {
        "id": "RpaRtutUuGS8",
        "colab": {
          "base_uri": "https://localhost:8080/"
        },
        "outputId": "052bb4e6-abce-4e93-bfb5-5e970cbc1986"
      },
      "execution_count": null,
      "outputs": [
        {
          "output_type": "stream",
          "name": "stdout",
          "text": [
            "192\n",
            "192\n",
            "192\n",
            "192\n"
          ]
        }
      ]
    },
    {
      "cell_type": "code",
      "source": [
        "# check the chirality and the depth conditions\n",
        "def check_chirality(X,R,C):\n",
        "  r3=R[2,:]\n",
        "  C=C.reshape(-1,1)\n",
        "  count=0\n",
        "  for x3d in X:\n",
        "    x3d = x3d[0:3].reshape(-1,1)\n",
        "    if(np.dot(r3,x3d-C)) > 0 and x3d[2]>0 :\n",
        "      count+=1\n",
        "\n",
        "  return count"
      ],
      "metadata": {
        "id": "769nVkho76bT"
      },
      "execution_count": null,
      "outputs": []
    },
    {
      "cell_type": "code",
      "source": [
        "counts=[]\n",
        "for i in range(len(Cset)):\n",
        "  count=check_chirality(pts3D_4[i],Rset[i],Cset[i])\n",
        "  counts.append(count)\n",
        "chosen=np.argmax(counts)\n",
        "chosen\n"
      ],
      "metadata": {
        "colab": {
          "base_uri": "https://localhost:8080/"
        },
        "id": "iL3NJNP29u1Y",
        "outputId": "cbc3edce-9b54-4324-ee69-132ced4b26b9"
      },
      "execution_count": null,
      "outputs": [
        {
          "output_type": "execute_result",
          "data": {
            "text/plain": [
              "2"
            ]
          },
          "metadata": {},
          "execution_count": 28
        }
      ]
    },
    {
      "cell_type": "code",
      "source": [
        "X=pts3D_4[chosen]\n",
        "print(X[0])\n",
        "X = X/X[:,3].reshape(-1,1)\n"
      ],
      "metadata": {
        "colab": {
          "base_uri": "https://localhost:8080/"
        },
        "id": "oxHON5VenKAv",
        "outputId": "8428e310-584b-4c65-8150-2197712f69db"
      },
      "execution_count": null,
      "outputs": [
        {
          "output_type": "stream",
          "name": "stdout",
          "text": [
            "[-2.07527385 -1.080586    2.05455462  1.        ]\n"
          ]
        }
      ]
    },
    {
      "cell_type": "code",
      "source": [
        "R_chosen,C_chosen=Rset[chosen],Cset[chosen]\n",
        "C_chosen"
      ],
      "metadata": {
        "colab": {
          "base_uri": "https://localhost:8080/"
        },
        "id": "3H107YDLmlcO",
        "outputId": "3b4d2ff3-6a23-4b9b-d3b1-6da4bd9dd157"
      },
      "execution_count": null,
      "outputs": [
        {
          "output_type": "execute_result",
          "data": {
            "text/plain": [
              "array([ 0.64743868, -0.03756159,  0.76119135])"
            ]
          },
          "metadata": {},
          "execution_count": 31
        }
      ]
    },
    {
      "cell_type": "markdown",
      "source": [
        "**Defining the projection matrix**"
      ],
      "metadata": {
        "id": "_dSxWZQIZB0g"
      }
    },
    {
      "cell_type": "code",
      "source": [
        "def ProjectionMatrix(R,C,K):\n",
        "  C = np.reshape(C, (3, 1))\n",
        "  I = np.identity(3)\n",
        "  P = np.dot(K, np.dot(R, np.hstack((I, -C))))\n",
        "  return P"
      ],
      "metadata": {
        "id": "l4ml0lZgFNyi"
      },
      "execution_count": null,
      "outputs": []
    },
    {
      "cell_type": "code",
      "source": [
        "def Loss(X,pts1,pts2,P1,P2):\n",
        "  p1_1,p1_2,p1_3=P1\n",
        "  p1_1,p1_2,p1_3= p1_1.reshape(1,-1),p1_2.reshape(1,-1),p1_3.reshape(1,-1)\n",
        "\n",
        "  p2_1,p2_2,p2_3=P2\n",
        "  p2_1,p2_2,p2_3= p2_1.reshape(1,-1),p2_2.reshape(1,-1),p2_3.reshape(1,-1)\n",
        "\n",
        "  u1,v1=pts1[0],pts1[1]\n",
        "  udash=np.divide(p1_1.dot(X) , p1_3.dot(X))\n",
        "  vdash=np.divide(p1_2.dot(X) , p1_3.dot(X))\n",
        "  E1= np.square(v1 - vdash) + np.square(u1 - udash)\n",
        "\n",
        "  u2,v2=pts2[0],pts2[1]\n",
        "  u2dash=np.divide(p2_1.dot(X) , p2_3.dot(X))\n",
        "  v2dash=np.divide(p2_2.dot(X) , p2_3.dot(X))\n",
        "  E2= np.square(v2 - v2dash) + np.square(u2 - u2dash)\n",
        "\n",
        "  eroor=E1+E2\n",
        "  return eroor.squeeze()\n"
      ],
      "metadata": {
        "id": "x5OqbKCUORIU"
      },
      "execution_count": null,
      "outputs": []
    },
    {
      "cell_type": "code",
      "source": [
        "# this rectifies the geometric error\n",
        "def NonLinearTrian(K, pts1, pts2, x3D, R1, C1, R2, C2):\n",
        "  greatX=[]\n",
        "  P1=ProjectionMatrix(R1,C1,K)\n",
        "  P2=ProjectionMatrix(R2,C2,K)\n",
        "  for i in range(len(x3D)):\n",
        "    optiz = optimize.least_squares(fun=Loss, x0=x3D[i], method=\"trf\", args=[pts1[i], pts2[i], P1, P2])\n",
        "    X=optiz.x\n",
        "    greatX.append(X)\n",
        "  return greatX\n"
      ],
      "metadata": {
        "id": "raCVEiE3v00e"
      },
      "execution_count": null,
      "outputs": []
    },
    {
      "cell_type": "code",
      "source": [
        "greatX=NonLinearTrian(K, pts1, pts2, X, R1_,C1_, R_chosen, C_chosen)"
      ],
      "metadata": {
        "id": "MuJOvSqZmae6"
      },
      "execution_count": null,
      "outputs": []
    },
    {
      "cell_type": "code",
      "source": [
        "def ReprojectionError(X, pt1, pt2, R1, C1, R2, C2, K ):\n",
        "\n",
        "    P1 = ProjectionMatrix(R1,C1,K)\n",
        "    P2 = ProjectionMatrix(R2,C2,K)\n",
        "\n",
        "    # X = homo(X.reshape(1,-1)).reshape(-1,1) # make X it a column of homogenous vector\n",
        "\n",
        "    p1_1T, p1_2T, p1_3T = P1 # rows of P1\n",
        "    p1_1T, p1_2T, p1_3T = p1_1T.reshape(1,-1), p1_2T.reshape(1,-1),p1_3T.reshape(1,-1)\n",
        "\n",
        "    p2_1T, p2_2T, p2_3T = P2 # rows of P2\n",
        "    p2_1T, p2_2T, p2_3T = p2_1T.reshape(1,-1), p2_2T.reshape(1,-1), p2_3T.reshape(1,-1)\n",
        "\n",
        "    ## reprojection error for reference camera points - j = 1\n",
        "    u1,v1 = pt1[0], pt1[1]\n",
        "    u1_proj = np.divide(p1_1T.dot(X) , p1_3T.dot(X))\n",
        "    v1_proj =  np.divide(p1_2T.dot(X) , p1_3T.dot(X))\n",
        "    E1= np.square(v1 - v1_proj) + np.square(u1 - u1_proj)\n",
        "\n",
        "    ## reprojection error for second camera points - j = 2\n",
        "    u2,v2 = pt2[0], pt2[1]\n",
        "    u2_proj = np.divide(p2_1T.dot(X) , p2_3T.dot(X))\n",
        "    v2_proj =  np.divide(p2_2T.dot(X) , p2_3T.dot(X))\n",
        "\n",
        "    E2= np.square(v2 - v2_proj) + np.square(u2 - u2_proj)\n",
        "\n",
        "    return E1, E2"
      ],
      "metadata": {
        "id": "7_naNrscrLAD"
      },
      "execution_count": null,
      "outputs": []
    },
    {
      "cell_type": "code",
      "source": [
        "def meanReprojectionError(x3D, pts1, pts2, R1, C1, R2, C2, K ):\n",
        "  Error = []\n",
        "  for pt1, pt2, X in zip(pts1, pts2, x3D):\n",
        "    e1,e2 = ReprojectionError(X, pt1, pt2, R1, C1, R2, C2, K )\n",
        "    Error.append(e1+e2)\n",
        "\n",
        "  return np.mean(Error)"
      ],
      "metadata": {
        "id": "pCQwo6VEq3Su"
      },
      "execution_count": null,
      "outputs": []
    },
    {
      "cell_type": "code",
      "source": [
        "mean_error1 = meanReprojectionError(X, pts1, pts2, R1_, C1_, R_chosen, C_chosen, K )\n",
        "mean_error2 = meanReprojectionError(greatX, pts1, pts2, R1_, C1_, R_chosen, C_chosen, K )\n",
        "print(n+1,m+1, 'Before optimization LT: ', mean_error1, 'After optimization nLT:', mean_error2)"
      ],
      "metadata": {
        "id": "V1qlBhPmrH9a",
        "colab": {
          "base_uri": "https://localhost:8080/"
        },
        "outputId": "42b30340-4989-4a8d-8a1a-8dd9efc66450"
      },
      "execution_count": null,
      "outputs": [
        {
          "output_type": "stream",
          "name": "stdout",
          "text": [
            "2 1 Before optimization LT:  498.32607502827676 After optimization nLT: 482.7600344003475\n"
          ]
        }
      ]
    },
    {
      "cell_type": "code",
      "source": [
        "X_all = np.zeros((feat_x.shape[0], 3))\n",
        "X_all = np.zeros((feat_x.shape[0], 3))\n",
        "camera_indices = np.zeros((feat_x.shape[0], 1), dtype = int)\n",
        "X_found = np.zeros((feat_x.shape[0], 1), dtype = int)\n",
        "\n",
        "X_all[ind] = X[:, :3]\n",
        "X_found[ind] = 1\n",
        "camera_indices[ind] = 1\n",
        "\n",
        "print(np.nonzero(X_found[ind])[0].shape)\n",
        "X_found[np.where(X_all[:,2] < 0)] = 0\n",
        "# print(len(idx[0]), '--' ,np.nonzero(X_found[idx])[0].shape)"
      ],
      "metadata": {
        "id": "Cn7Fp0LApEAP",
        "colab": {
          "base_uri": "https://localhost:8080/"
        },
        "outputId": "2ecc34dc-995b-44e0-ed58-477ce0cacdaa"
      },
      "execution_count": null,
      "outputs": [
        {
          "output_type": "stream",
          "name": "stdout",
          "text": [
            "(192,)\n"
          ]
        }
      ]
    },
    {
      "cell_type": "markdown",
      "source": [
        "**For the other images no we will use PNP for the others:\n",
        "This cell is set of functions used for the Perspective n Points**"
      ],
      "metadata": {
        "id": "HFz2MXmA_xoZ"
      }
    },
    {
      "cell_type": "code",
      "source": [
        "def PnP(X_set,x_set,K):\n",
        "  N=X_set.shape[0]\n",
        "  X_stacked=np.hstack((X_set, np.ones((X_set.shape[0], 1))))\n",
        "  x_stacked=np.hstack((x_set, np.ones((x_set.shape[0], 1))))\n",
        "\n",
        "  K_inv = np.linalg.inv(K)\n",
        "  x_n = K_inv.dot(x_stacked.T).T\n",
        "\n",
        "  for i in range(N):\n",
        "    X=X_stacked[i].reshape((1,4))\n",
        "    zeros=np.zeros((1,4))\n",
        "    u,v,_=x_n[i]\n",
        "    u_cross = np.array([[0, -1, v],\n",
        "                        [1,  0 , -u],\n",
        "                        [-v, u, 0]])\n",
        "    X_tilda = np.vstack((np.hstack((   X, zeros, zeros)),\n",
        "                        np.hstack((zeros,     X, zeros)),\n",
        "                        np.hstack((zeros, zeros,     X))))\n",
        "    a = u_cross.dot(X_tilda)\n",
        "    if i>0:\n",
        "      A=np.vstack((A,a))\n",
        "    else:\n",
        "      A=a\n",
        "    _,_,vt=np.linalg.svd(A)\n",
        "    P=vt[-1].reshape((3,4))\n",
        "    R=P[:,:3]\n",
        "    u,d,v=np.linalg.svd(R)\n",
        "    R=u.dot(v)\n",
        "    C=P[:,3]\n",
        "    C = - np.linalg.inv(R).dot(C)\n",
        "    if np.linalg.det(R)<0:\n",
        "      R=-R\n",
        "      C=-C\n",
        "  return R,C\n",
        "\n",
        "def PnPerr(feat,X_test,R,C,K):\n",
        "  u,v=feat\n",
        "  # print(\"u and v\",u,v)\n",
        "  X_test=np.hstack((X_test.reshape(1,-1), np.ones((X_test.reshape(1,-1).shape[0], 1))))\n",
        "  X_test=X_test.reshape(-1,1)\n",
        "  C=C.reshape(-1,1)\n",
        "  P=ProjectionMatrix(R,C,K)\n",
        "  p1,p2,p3=P\n",
        "  u_dash=np.divide(p1.dot(X_test),p3.dot(X_test))\n",
        "  v_dash=np.divide(p2.dot(X_test),p3.dot(X_test))\n",
        "  # print(\"u_dash and v_dash\",u_dash,v_dash)\n",
        "  x_proj = np.hstack((u_dash, v_dash))\n",
        "  x = np.hstack((u, v))\n",
        "  e = np.linalg.norm(x - x_proj)\n",
        "  # e = np.sqrt(np.square(u - u_dash) + np.square(v - v_dash))\n",
        "  return e\n",
        "\n",
        "\n",
        "def PnPRANSAC(K,feat_pts,X,num_itr=1000,e_thresh=200):\n",
        "  inliers_thresh=0\n",
        "  chose_ind=[]\n",
        "  chosen_t,chose_R=None,None\n",
        "  num_rows=X.shape[0]\n",
        "  for i in range(num_itr):\n",
        "    rand_ind=np.random.choice(num_rows,size=6)\n",
        "    X_set,x_set=X[rand_ind],feat_pts[rand_ind]\n",
        "    R,C=PnP(X_set,x_set,K)\n",
        "    # print(R)\n",
        "    ind=[]\n",
        "    if R is not None:\n",
        "\n",
        "      for j in range(num_rows):\n",
        "        feat=feat_pts[j]\n",
        "        X_test=X[j]\n",
        "        err=PnPerr(feat,X_test,R,C,K)\n",
        "        # print(err)\n",
        "        if err<e_thresh:\n",
        "          ind.append(j)\n",
        "\n",
        "    if len(ind)>inliers_thresh:\n",
        "      inliers_thresh=len(ind)\n",
        "      R_chosen=R\n",
        "      C_chosen=C\n",
        "  return R_chosen,C_chosen\n"
      ],
      "metadata": {
        "id": "JAa0ARZ1GhUK"
      },
      "execution_count": null,
      "outputs": []
    },
    {
      "cell_type": "code",
      "source": [
        "def reprojectionErrorPnP(x3D, pts, K, R, C):\n",
        "  P = ProjectionMatrix(R,C,K)\n",
        "\n",
        "  Error = []\n",
        "  for X, pt in zip(x3D, pts):\n",
        "    p_1T, p_2T, p_3T = P# rows of P\n",
        "    p_1T, p_2T, p_3T = p_1T.reshape(1,-1), p_2T.reshape(1,-1), p_3T.reshape(1,-1)\n",
        "    X = np.hstack((X.reshape(1,-1), np.ones((X.reshape(1,-1).shape[0], 1)))).reshape(-1,1) # make X it a column of homogenous vector\n",
        "    ## reprojection error for reference camera points\n",
        "    u, v = pt[0], pt[1]\n",
        "    u_proj = np.divide(p_1T.dot(X) , p_3T.dot(X))\n",
        "    v_proj =  np.divide(p_2T.dot(X) , p_3T.dot(X))\n",
        "\n",
        "    E = np.square(v - v_proj) + np.square(u - u_proj)\n",
        "\n",
        "    Error.append(E)\n",
        "\n",
        "  mean_error = np.mean(np.array(Error).squeeze())\n",
        "  return mean_error\n"
      ],
      "metadata": {
        "id": "0kkCpROZ3wGs"
      },
      "execution_count": null,
      "outputs": []
    },
    {
      "cell_type": "code",
      "source": [
        "from scipy.spatial.transform import Rotation\n",
        "def getQuaternion(R2):\n",
        "  Q = Rotation.from_matrix(R2)\n",
        "  return Q.as_quat()\n",
        "def getRotation(Q, type_ = 'q'):\n",
        "  if type_ == 'q':\n",
        "    R = Rotation.from_quat(Q)\n",
        "    return R.as_matrix()\n",
        "  elif type_ == 'e':\n",
        "    R = Rotation.from_rotvec(Q)\n",
        "    return R.as_matrix()\n",
        "def homo(pts):\n",
        "  return np.hstack((pts, np.ones((pts.shape[0], 1))))"
      ],
      "metadata": {
        "id": "Xvd1HNlC9FeB"
      },
      "execution_count": null,
      "outputs": []
    },
    {
      "cell_type": "code",
      "source": [
        "def NonLinearPnP(K, pts, x3D, R0, C0):\n",
        "  \"\"\"\n",
        "  K : Camera Matrix\n",
        "  pts1, pts2 : Point Correspondences\n",
        "  x3D :  initial 3D point\n",
        "  R2, C2 : relative camera pose - estimated from PnP\n",
        "  Returns:\n",
        "      x3D : optimized 3D points\n",
        "  \"\"\"\n",
        "  Q = getQuaternion(R0)\n",
        "  X0 = [Q[0] ,Q[1],Q[2],Q[3], C0[0], C0[1], C0[2]]\n",
        "\n",
        "  optimized_params = optimize.least_squares(\n",
        "      fun = PnPLoss,\n",
        "      x0=X0,\n",
        "      method=\"trf\",\n",
        "      args=[x3D, pts, K])\n",
        "  X1 = optimized_params.x\n",
        "  Q = X1[:4]\n",
        "  C = X1[4:]\n",
        "  R = getRotation(Q)\n",
        "  return R, C\n",
        "\n",
        "def PnPLoss(X0, x3D, pts, K):\n",
        "\n",
        "  Q, C = X0[:4], X0[4:].reshape(-1,1)\n",
        "  R = getRotation(Q)\n",
        "  P = ProjectionMatrix(R,C,K)\n",
        "\n",
        "  Error = []\n",
        "  for X, pt in zip(x3D, pts):\n",
        "    p_1T, p_2T, p_3T = P# rows of P\n",
        "    p_1T, p_2T, p_3T = p_1T.reshape(1,-1), p_2T.reshape(1,-1), p_3T.reshape(1,-1)\n",
        "\n",
        "\n",
        "    X = homo(X.reshape(1,-1)).reshape(-1,1) # make X it a column of homogenous vector\n",
        "    ## reprojection error for reference camera points\n",
        "    u, v = pt[0], pt[1]\n",
        "    u_proj = np.divide(p_1T.dot(X) , p_3T.dot(X))\n",
        "    v_proj =  np.divide(p_2T.dot(X) , p_3T.dot(X))\n",
        "\n",
        "    E = np.square(v - v_proj) + np.square(u - u_proj)\n",
        "\n",
        "    Error.append(E)\n",
        "\n",
        "  sumError = np.mean(np.array(Error).squeeze())\n",
        "  return sumError"
      ],
      "metadata": {
        "id": "ct_fsGDK8pJz"
      },
      "execution_count": null,
      "outputs": []
    },
    {
      "cell_type": "code",
      "source": [
        "C_set_ = []\n",
        "R_set_ = []\n",
        "C0 = np.zeros(3)\n",
        "R0 = np.identity(3)\n",
        "C_set_.append(C0)\n",
        "R_set_.append(R0)\n",
        "C_set_.append(C_chosen)\n",
        "R_set_.append(R_chosen)\n"
      ],
      "metadata": {
        "id": "lOiEkvto8ttW"
      },
      "execution_count": null,
      "outputs": []
    },
    {
      "cell_type": "code",
      "source": [
        "# Adding the rest of the images\n",
        "for i in range(2,5):\n",
        "  feat_ind_i=np.where((X_found[:,0]==1) & (filtered_feature_flag[:,i]==1))\n",
        "  pts_i = np.hstack((feat_x[feat_ind_i, i].reshape(-1,1), feat_y[feat_ind_i, i].reshape(-1,1)))\n",
        "  X=X_all[feat_ind_i,:].reshape(-1,3)\n",
        "\n",
        "  R_int,C_int=PnPRANSAC(K,pts_i,X,num_itr=1000,e_thresh=10)\n",
        "  errLinearPnP = reprojectionErrorPnP(X, pts_i, K, R_int, C_int)\n",
        "  print(errLinearPnP)\n",
        "  Ri, Ci = NonLinearPnP(K, pts_i, X, R_int, C_int)\n",
        "  errNonLinearPnP = reprojectionErrorPnP(X, pts_i, K, Ri, Ci)\n",
        "  print(errNonLinearPnP)\n",
        "  print(\"appending in the r set\")\n",
        "  R_set_.append(Ri)\n",
        "  C_set_.append(Ci)\n",
        "  for j in range(0,i):\n",
        "    idx_X_pts = np.where((filtered_feature_flag[:, j]==1) & (filtered_feature_flag[:, i]==1))\n",
        "    if (len(idx_X_pts[0]) < 8):\n",
        "      continue\n",
        "\n",
        "    x1 = np.hstack((feat_x[idx_X_pts, j].reshape((-1, 1)), feat_y[idx_X_pts, j].reshape((-1, 1))))\n",
        "    x2 = np.hstack((feat_x[idx_X_pts, i].reshape((-1, 1)), feat_y[idx_X_pts, i].reshape((-1, 1))))\n",
        "\n",
        "    X = Lin_triangualtion(K, C_set_[j], R_set_[j], Ci, Ri, x1, x2)\n",
        "    X = X/X[:,3].reshape(-1,1)\n",
        "\n",
        "    LT_error = meanReprojectionError(X, x1, x2, R_set_[j], C_set_[j], Ri, Ci, K)\n",
        "\n",
        "    X = NonLinearTrian(K, x1, x2, X, R_set_[j], C_set_[j], Ri, Ci)\n",
        "    X=np.array(X)\n",
        "    X = X/X[:,3].reshape(-1,1)\n",
        "\n",
        "    nLT_error = meanReprojectionError(X, x1, x2, R_set_[j], C_set_[j], Ri, Ci, K)\n",
        "    print(\"Error after linear triangulation: \", LT_error, \" Error after non linear triangulation: \", nLT_error)\n",
        "\n",
        "\n",
        "    X_all[idx_X_pts] = X[:,:3]\n",
        "    X_found[idx_X_pts] = 1\n"
      ],
      "metadata": {
        "id": "PzVWuaNE_pWr"
      },
      "execution_count": null,
      "outputs": []
    },
    {
      "cell_type": "code",
      "source": [
        "def getEuler(R2):\n",
        "  euler = Rotation.from_matrix(R2)\n",
        "  return euler.as_rotvec()\n"
      ],
      "metadata": {
        "id": "Z8yYB-QlCMZ9"
      },
      "execution_count": null,
      "outputs": []
    },
    {
      "cell_type": "markdown",
      "source": [
        "**Final Results**"
      ],
      "metadata": {
        "id": "cSWgOSHMabe-"
      }
    },
    {
      "cell_type": "code",
      "source": [
        "feature_idx = np.where(X_found[:, 0])\n",
        "X = X_all[feature_idx]\n",
        "x = X[:,0]\n",
        "y = X[:,1]\n",
        "z = X[:,2]\n",
        "\n",
        "# 2D plotting\n",
        "fig = plt.figure(figsize = (10, 10))\n",
        "plt.xlim(-250,  250)\n",
        "plt.ylim(-100,  500)\n",
        "plt.scatter(200*x, 100*z, marker='.',linewidths=0.5, color = 'blue')\n",
        "for i in range(0, len(C_set_)):\n",
        "  R1 = getEuler(R_set_[i])\n",
        "  R1 = np.rad2deg(R1)\n",
        "  plt.plot(C_set_[i][0],C_set_[i][2], marker=(3, 0, int(R1[1])), markersize=15, linestyle='None')\n",
        "\n",
        "\n",
        "plt.show()\n"
      ],
      "metadata": {
        "colab": {
          "base_uri": "https://localhost:8080/",
          "height": 596
        },
        "id": "71Z4uUPSAxDg",
        "outputId": "017afaf1-9f94-4af2-b924-81913fe360cd"
      },
      "execution_count": null,
      "outputs": [
        {
          "output_type": "display_data",
          "data": {
            "text/plain": [
              "<Figure size 720x720 with 1 Axes>"
            ],
            "image/png": "[encoded data removed]"
          },
          "metadata": {
            "needs_background": "light"
          }
        }
      ]
    }
  ]
}